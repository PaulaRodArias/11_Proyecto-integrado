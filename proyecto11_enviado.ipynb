{
 "cells": [
  {
   "cell_type": "markdown",
   "metadata": {},
   "source": [
    "# Descripción del proyecto"
   ]
  },
  {
   "cell_type": "markdown",
   "metadata": {},
   "source": [
    "## Inicialización\n",
    "En la primera parte de este trabajo se llevarán a cabo los siguientes procesos:\n",
    "1. Cargar las librerías necesarias para el análisis.\n",
    "2. Importar el conjunto de datos.\n",
    "3. Revisar los datos para proceder a su limpieza y enriquecimiento, en caso de ser necesario."
   ]
  },
  {
   "cell_type": "code",
   "execution_count": 97,
   "metadata": {},
   "outputs": [],
   "source": [
    "#Importar librerías \n",
    "import pandas as pd \n",
    "import numpy as np \n",
    "from matplotlib import pyplot as plt\n",
    "import seaborn as sns\n",
    "from scipy import stats as st\n",
    "from scipy.stats import norm \n",
    "import datetime as dt\n",
    "import plotly.graph_objects as go\n",
    "import math\n"
   ]
  },
  {
   "cell_type": "code",
   "execution_count": null,
   "metadata": {},
   "outputs": [],
   "source": [
    "#Cargar datos\n",
    "registros = pd.read_csv(\"/datasets/logs_exp_us.csv\", sep=\"\\t\")"
   ]
  },
  {
   "cell_type": "code",
   "execution_count": 41,
   "metadata": {},
   "outputs": [
    {
     "name": "stdout",
     "output_type": "stream",
     "text": [
      "                 EventName         DeviceIDHash  EventTimestamp  ExpId\n",
      "0         MainScreenAppear  4575588528974610257      1564029816    246\n",
      "1         MainScreenAppear  7416695313311560658      1564053102    246\n",
      "2  PaymentScreenSuccessful  3518123091307005509      1564054127    248\n",
      "3         CartScreenAppear  3518123091307005509      1564054127    248\n",
      "4  PaymentScreenSuccessful  6217807653094995999      1564055322    248\n"
     ]
    }
   ],
   "source": [
    "print(registros.head())"
   ]
  },
  {
   "cell_type": "code",
   "execution_count": 42,
   "metadata": {},
   "outputs": [
    {
     "name": "stdout",
     "output_type": "stream",
     "text": [
      "<class 'pandas.core.frame.DataFrame'>\n",
      "RangeIndex: 244126 entries, 0 to 244125\n",
      "Data columns (total 4 columns):\n",
      " #   Column          Non-Null Count   Dtype \n",
      "---  ------          --------------   ----- \n",
      " 0   EventName       244126 non-null  object\n",
      " 1   DeviceIDHash    244126 non-null  int64 \n",
      " 2   EventTimestamp  244126 non-null  int64 \n",
      " 3   ExpId           244126 non-null  int64 \n",
      "dtypes: int64(3), object(1)\n",
      "memory usage: 7.5+ MB\n",
      "None\n"
     ]
    }
   ],
   "source": [
    "print(registros.info())"
   ]
  },
  {
   "cell_type": "code",
   "execution_count": 43,
   "metadata": {},
   "outputs": [
    {
     "name": "stdout",
     "output_type": "stream",
     "text": [
      "413\n"
     ]
    }
   ],
   "source": [
    "print(registros.duplicated().sum())"
   ]
  },
  {
   "cell_type": "code",
   "execution_count": 44,
   "metadata": {},
   "outputs": [
    {
     "name": "stdout",
     "output_type": "stream",
     "text": [
      "                      EventName         DeviceIDHash  EventTimestamp  ExpId\n",
      "453            MainScreenAppear  5613408041324010552      1564474784    248\n",
      "2350           CartScreenAppear  1694940645335807244      1564609899    248\n",
      "3573           MainScreenAppear   434103746454591587      1564628377    248\n",
      "4076           MainScreenAppear  3761373764179762633      1564631266    247\n",
      "4803           MainScreenAppear  2835328739789306622      1564634641    248\n",
      "...                         ...                  ...             ...    ...\n",
      "242329         MainScreenAppear  8870358373313968633      1565206004    247\n",
      "242332  PaymentScreenSuccessful  4718002964983105693      1565206005    247\n",
      "242360  PaymentScreenSuccessful  2382591782303281935      1565206049    246\n",
      "242362         CartScreenAppear  2382591782303281935      1565206049    246\n",
      "242635         MainScreenAppear  4097782667445790512      1565206618    246\n",
      "\n",
      "[413 rows x 4 columns]\n"
     ]
    }
   ],
   "source": [
    "print(registros[registros.duplicated()])"
   ]
  },
  {
   "cell_type": "markdown",
   "metadata": {},
   "source": [
    "### Conclusiones\n",
    "Los datos se cargaron en el DataFrame \"registros\", que contiene información sobre el evento, el ID del usuario, la fecha y el ID del experimento, distribuidos en 4 columnas y 244,126 filas. Posteriormente, se aplicaron métodos de la librería pandas para verificar la calidad de los datos: se confirmó que no hay valores nulos, pero se detectaron filas duplicadas que deben eliminarse para evitar sesgos en los resultados. Además, es necesario ajustar los nombres de las columnas al formato estándar y convertir el tipo de dato de la columna \"EventTimestamp\" a formato de fecha (datetime)."
   ]
  },
  {
   "cell_type": "markdown",
   "metadata": {},
   "source": [
    "## Preprocesamiento de datos \n",
    "En la presente etapa se realizarán los cambios necesarios para el posterior análisis. Estos fueron identificados en el proceso de Inicialización."
   ]
  },
  {
   "cell_type": "code",
   "execution_count": 45,
   "metadata": {},
   "outputs": [],
   "source": [
    "#Modificar nombres de columnas\n",
    "registros.columns = ['evento', 'id_usuario', 'datetime', 'id_exp']"
   ]
  },
  {
   "cell_type": "code",
   "execution_count": 46,
   "metadata": {},
   "outputs": [
    {
     "name": "stdout",
     "output_type": "stream",
     "text": [
      "0        2019-07-25 04:43:36\n",
      "1        2019-07-25 11:11:42\n",
      "2        2019-07-25 11:28:47\n",
      "3        2019-07-25 11:28:47\n",
      "4        2019-07-25 11:48:42\n",
      "                 ...        \n",
      "244121   2019-08-07 21:12:25\n",
      "244122   2019-08-07 21:13:59\n",
      "244123   2019-08-07 21:14:43\n",
      "244124   2019-08-07 21:14:58\n",
      "244125   2019-08-07 21:15:17\n",
      "Name: datetime, Length: 244126, dtype: datetime64[ns]\n"
     ]
    }
   ],
   "source": [
    "#Modificar tipo de dato columna 'date'\n",
    "registros['datetime'] = pd.to_datetime(registros['datetime'] , unit='s')\n",
    "\n",
    "print(registros['datetime'])"
   ]
  },
  {
   "cell_type": "code",
   "execution_count": 47,
   "metadata": {},
   "outputs": [],
   "source": [
    "#Crear columnas de fecha y hora\n",
    "registros['fecha'] = registros['datetime'].dt.date\n",
    "registros['hora'] = registros['datetime'].dt.time"
   ]
  },
  {
   "cell_type": "code",
   "execution_count": 48,
   "metadata": {},
   "outputs": [],
   "source": [
    "#Transformar columas nueva a formato datetime\n",
    "\n",
    "registros['fecha'] = pd.to_datetime(registros['fecha'])\n",
    "registros['hora'] = pd.to_datetime(registros['hora'], format='%H:%M:%S')"
   ]
  },
  {
   "cell_type": "code",
   "execution_count": 49,
   "metadata": {},
   "outputs": [],
   "source": [
    "#Eliminar filas de duplicados exactos\n",
    "\n",
    "registros.drop_duplicates(inplace=True)"
   ]
  },
  {
   "cell_type": "markdown",
   "metadata": {},
   "source": [
    "### Conclusiones \n",
    "\n",
    "Durante el proceso de preprocesamiento, se renombraron las columnas al formato snake case para mayor consistencia, asignando además un nombre más descriptivo al identificador de usuario. También se convirtió el tipo de dato de la columna datetime al formato de fecha y hora adecuado. Adicionalmente, se crearon columnas nuevas que separan la información temporal: una contiene solo la fecha y otra únicamente la hora de cada registro."
   ]
  },
  {
   "cell_type": "markdown",
   "metadata": {},
   "source": [
    "## Análisis de datos"
   ]
  },
  {
   "cell_type": "markdown",
   "metadata": {},
   "source": [
    "### Estudiar y comprobar datos"
   ]
  },
  {
   "cell_type": "code",
   "execution_count": 50,
   "metadata": {},
   "outputs": [
    {
     "name": "stdout",
     "output_type": "stream",
     "text": [
      "evento\n",
      "CartScreenAppear            42668\n",
      "MainScreenAppear           119101\n",
      "OffersScreenAppear          46808\n",
      "PaymentScreenSuccessful     34118\n",
      "Tutorial                     1018\n",
      "Name: id_usuario, dtype: int64\n"
     ]
    }
   ],
   "source": [
    " #Calcular cantidad de eventos en los registros \n",
    "\n",
    "eventos = registros.groupby('evento')['id_usuario'].count()\n",
    "print(eventos)"
   ]
  },
  {
   "cell_type": "code",
   "execution_count": 51,
   "metadata": {},
   "outputs": [
    {
     "name": "stdout",
     "output_type": "stream",
     "text": [
      "                  usuario  num_eventos\n",
      "0        6888746892508752            1\n",
      "1        6909561520679493            5\n",
      "2        6922444491712477           47\n",
      "3        7435777799948366            6\n",
      "4        7702139951469979          137\n",
      "...                   ...          ...\n",
      "7546  9217594193087726423            9\n",
      "7547  9219463515465815368           17\n",
      "7548  9220879493065341500            7\n",
      "7549  9221926045299980007            7\n",
      "7550  9222603179720523844           59\n",
      "\n",
      "[7551 rows x 2 columns]\n"
     ]
    }
   ],
   "source": [
    "#Calcular número de eventos por usuario \n",
    "usuarios = registros.groupby('id_usuario', as_index=False)['evento'].count()\n",
    "usuarios.columns = ['usuario', 'num_eventos']\n",
    "print(usuarios)"
   ]
  },
  {
   "cell_type": "code",
   "execution_count": 52,
   "metadata": {},
   "outputs": [
    {
     "data": {
      "image/png": "[encoded data removed]",
      "text/plain": [
       "<Figure size 640x480 with 1 Axes>"
      ]
     },
     "metadata": {},
     "output_type": "display_data"
    }
   ],
   "source": [
    "#Ver distribución de 'usuarios'\n",
    "\n",
    "sns.boxplot(usuarios['num_eventos'])\n",
    "\n",
    "plt.show()\n"
   ]
  },
  {
   "cell_type": "code",
   "execution_count": 53,
   "metadata": {},
   "outputs": [
    {
     "name": "stdout",
     "output_type": "stream",
     "text": [
      "Media, 32.28\n",
      "Mediana: 20.0\n",
      "Moda: 0    5\n",
      "Name: num_eventos, dtype: int64\n"
     ]
    }
   ],
   "source": [
    "#Calcular eventos promedio por usuario\n",
    "print('Media,', usuarios['num_eventos'].mean().round(2))\n",
    "\n",
    "#Calcular mediana\n",
    "print('Mediana:', usuarios['num_eventos'].median())\n",
    "\n",
    "#Calcular moda\n",
    "print('Moda:', usuarios['num_eventos'].mode())\n"
   ]
  },
  {
   "cell_type": "code",
   "execution_count": null,
   "metadata": {},
   "outputs": [
    {
     "name": "stdout",
     "output_type": "stream",
     "text": [
      "El límite superior de outliers es: 79.0\n"
     ]
    }
   ],
   "source": [
    "#Calcular límite superior outliers\n",
    "q1 = usuarios['num_eventos'].quantile(0.25)\n",
    "q3 = usuarios['num_eventos'].quantile(0.75)\n",
    "\n",
    "iqr = q3 - q1\n",
    "\n",
    "outliers_sup = q3 + 1.5 * iqr\n",
    "\n",
    "print(f'El límite superior de outliers es: {outliers_sup}')"
   ]
  },
  {
   "cell_type": "code",
   "execution_count": null,
   "metadata": {},
   "outputs": [
    {
     "name": "stdout",
     "output_type": "stream",
     "text": [
      "La cantidad de usuarios anómalos es: 508\n"
     ]
    }
   ],
   "source": [
    "#Calcular cantidad de usuarios con num_eventos igual o mayor a 79\n",
    "usuarios_outliers = usuarios.query(\"num_eventos >= 79\").shape[0]\n",
    "\n",
    "print(f'La cantidad de usuarios anómalos es: {usuarios_outliers}')"
   ]
  },
  {
   "cell_type": "code",
   "execution_count": 116,
   "metadata": {},
   "outputs": [
    {
     "name": "stdout",
     "output_type": "stream",
     "text": [
      "El porcentaje de usuario anómales es del: 6.73%\n"
     ]
    }
   ],
   "source": [
    "#Calcular porcentaje usuarios anómalos \n",
    "total_usuario = usuarios.shape[0]\n",
    "\n",
    "p_usuario_anomalos = usuarios_outliers / total_usuario * 100\n",
    "\n",
    "print(f'El porcentaje de usuario anómales es del: {p_usuario_anomalos:.2f}%')"
   ]
  },
  {
   "cell_type": "code",
   "execution_count": 54,
   "metadata": {},
   "outputs": [
    {
     "name": "stdout",
     "output_type": "stream",
     "text": [
      "Primer registro: 2019-07-25 00:00:00\n",
      "Último registro: 2019-08-07 00:00:00\n"
     ]
    }
   ],
   "source": [
    "#Encontrar registro más antiguo y más actual \n",
    "print('Primer registro:', registros['fecha'].min())\n",
    "\n",
    "print('Último registro:', registros['fecha'].max())"
   ]
  },
  {
   "cell_type": "code",
   "execution_count": 55,
   "metadata": {},
   "outputs": [],
   "source": [
    "#Graficar cantidad de eventos por fecha y hora\n",
    "\n",
    "#plt.figure(figsize=[9,5])\n",
    "\n",
    "#registros.plot(kind='bar',\n",
    "                #x='datetime',\n",
    "                #y='evento',\n",
    "                #xlabel='Fecha y hora del evento',\n",
    "                #ylabel='Número de eventos',\n",
    "                #title='Cantidad de ventos registrados por fecha y hora',\n",
    "                #rot=30,\n",
    "#)"
   ]
  },
  {
   "cell_type": "code",
   "execution_count": 56,
   "metadata": {},
   "outputs": [
    {
     "data": {
      "image/png": "[encoded data removed]",
      "text/plain": [
       "<Figure size 900x500 with 1 Axes>"
      ]
     },
     "metadata": {},
     "output_type": "display_data"
    }
   ],
   "source": [
    "#Graficar cantidad de eventos por fecha y hora \n",
    "\n",
    "    #agrupar por datetime y contar el número de eventos\n",
    "eventos_por_fecha_hora = registros.groupby('fecha').size()\n",
    "\n",
    "\n",
    "eventos_por_fecha_hora.plot(kind='bar', figsize=(9, 5), color='skyblue')\n",
    "\n",
    "plt.xlabel('Fecha y hora del evento')\n",
    "plt.ylabel('Número de eventos')\n",
    "plt.title('Cantidad de eventos registrados por fecha')\n",
    "plt.xticks(rotation=90)\n",
    "\n",
    "plt.show()"
   ]
  },
  {
   "cell_type": "code",
   "execution_count": 57,
   "metadata": {},
   "outputs": [],
   "source": [
    "#Encontrar momento en que los datos están completos\n",
    "\n",
    "    #redactar filtro\n",
    "#filtro_datos_completos = registros[]\n",
    "#registros.groupby(['id_usuario', 'datetime'], as_index=False)['evento'].count()"
   ]
  },
  {
   "cell_type": "code",
   "execution_count": 58,
   "metadata": {},
   "outputs": [],
   "source": [
    "#Filtrar df registros por fecha donde hay gran cantidad de datos \n",
    "\n",
    "registros_filtrado = registros[registros['fecha'] >= '2019-08-01']"
   ]
  },
  {
   "cell_type": "code",
   "execution_count": null,
   "metadata": {},
   "outputs": [
    {
     "name": "stdout",
     "output_type": "stream",
     "text": [
      "1.159560630741897\n"
     ]
    }
   ],
   "source": [
    "#Calcular cantidad de registros eliminados \n",
    "\n",
    "print(((registros.shape[0] - registros_filtrado.shape[0]) / registros.shape[0] * 100))"
   ]
  },
  {
   "cell_type": "code",
   "execution_count": 87,
   "metadata": {},
   "outputs": [
    {
     "name": "stdout",
     "output_type": "stream",
     "text": [
      "id_exp\n",
      "246    2484\n",
      "247    2513\n",
      "248    2537\n",
      "Name: id_usuario, dtype: int64\n"
     ]
    }
   ],
   "source": [
    "#Revisar existencia de usuarios por grupo experimental\n",
    "\n",
    "usuarios_por_grupo = registros_filtrado.groupby('id_exp')['id_usuario'].nunique()\n",
    "print(usuarios_por_grupo)"
   ]
  },
  {
   "cell_type": "markdown",
   "metadata": {},
   "source": [
    "#### Conclusiones \n",
    "Al analizar los datos, observamos que 7,551 usuarios únicos han interactuado con la plataforma de ventas. La mayoría de ellos tiene 5 eventos asociados, lo que sugiere que suelen visitar la página entre una y dos veces aproximadamente. Sin embargo, 508 usuarios (6.7%) han participado en 79 eventos o más, lo que indica un nivel de actividad significativamente mayor.\n",
    "\n",
    "Al examinar las fechas de los registros, se evidencia que la cantidad de datos recolectados antes del 1 de agosto es menor, lo que podría generar un sesgo en los análisis posteriores debido a la incompletitud de la información en ese periodo. Por este motivo, se decide excluir los datos registrados hasta el 31 de julio, garantizando así una base de datos más homogénea y representativa para el estudio."
   ]
  },
  {
   "cell_type": "markdown",
   "metadata": {},
   "source": [
    "### Estudiar el embudo de eventos"
   ]
  },
  {
   "cell_type": "code",
   "execution_count": 68,
   "metadata": {},
   "outputs": [
    {
     "name": "stdout",
     "output_type": "stream",
     "text": [
      "                    evento  num_ocurrencias  num_usuarios  %_usuarios\n",
      "1         MainScreenAppear           117328          7419    6.323299\n",
      "2       OffersScreenAppear            46333          4593    9.913021\n",
      "0         CartScreenAppear            42303          3734    8.826797\n",
      "3  PaymentScreenSuccessful            33918          3539   10.433988\n",
      "4                 Tutorial             1005           840   83.582090\n"
     ]
    }
   ],
   "source": [
    "#Calcular frecuencia de eventos y usuarios\n",
    "\n",
    "#eventos = registros_filtrado.groupby('evento', as_index=False).agg({'evento': 'count', 'id_usuario': pd.Series.nunique})\n",
    "eventos = (registros_filtrado.groupby('evento').agg({'datetime': 'count', 'id_usuario': pd.Series.nunique})\n",
    "                             .reset_index()\n",
    "                             .sort_values(by='id_usuario', ascending=False)\n",
    ")\n",
    "eventos.columns = ['evento', 'num_ocurrencias', 'num_usuarios']\n",
    "eventos['%_usuarios'] = eventos['num_usuarios'] / eventos['num_ocurrencias'] * 100\n",
    "\n",
    "print(eventos.sort_values(by='num_ocurrencias', ascending=False))"
   ]
  },
  {
   "cell_type": "code",
   "execution_count": 82,
   "metadata": {},
   "outputs": [
    {
     "data": {
      "application/vnd.plotly.v1+json": {
       "config": {
        "plotlyServerURL": "https://plot.ly"
       },
       "data": [
        {
         "type": "funnel",
         "x": [
          7419,
          4593,
          3734,
          3539
         ],
         "y": [
          "MainScreenAppear",
          "OffersScreenAppear",
          "CartScreenAppear",
          "PaymentScreenSuccessful"
         ]
        }
       ],
       "layout": {
        "template": {
         "data": {
          "bar": [
           {
            "error_x": {
             "color": "#2a3f5f"
            },
            "error_y": {
             "color": "#2a3f5f"
            },
            "marker": {
             "line": {
              "color": "#E5ECF6",
              "width": 0.5
             },
             "pattern": {
              "fillmode": "overlay",
              "size": 10,
              "solidity": 0.2
             }
            },
            "type": "bar"
           }
          ],
          "barpolar": [
           {
            "marker": {
             "line": {
              "color": "#E5ECF6",
              "width": 0.5
             },
             "pattern": {
              "fillmode": "overlay",
              "size": 10,
              "solidity": 0.2
             }
            },
            "type": "barpolar"
           }
          ],
          "carpet": [
           {
            "aaxis": {
             "endlinecolor": "#2a3f5f",
             "gridcolor": "white",
             "linecolor": "white",
             "minorgridcolor": "white",
             "startlinecolor": "#2a3f5f"
            },
            "baxis": {
             "endlinecolor": "#2a3f5f",
             "gridcolor": "white",
             "linecolor": "white",
             "minorgridcolor": "white",
             "startlinecolor": "#2a3f5f"
            },
            "type": "carpet"
           }
          ],
          "choropleth": [
           {
            "colorbar": {
             "outlinewidth": 0,
             "ticks": ""
            },
            "type": "choropleth"
           }
          ],
          "contour": [
           {
            "colorbar": {
             "outlinewidth": 0,
             "ticks": ""
            },
            "colorscale": [
             [
              0,
              "#0d0887"
             ],
             [
              0.1111111111111111,
              "#46039f"
             ],
             [
              0.2222222222222222,
              "#7201a8"
             ],
             [
              0.3333333333333333,
              "#9c179e"
             ],
             [
              0.4444444444444444,
              "#bd3786"
             ],
             [
              0.5555555555555556,
              "#d8576b"
             ],
             [
              0.6666666666666666,
              "#ed7953"
             ],
             [
              0.7777777777777778,
              "#fb9f3a"
             ],
             [
              0.8888888888888888,
              "#fdca26"
             ],
             [
              1,
              "#f0f921"
             ]
            ],
            "type": "contour"
           }
          ],
          "contourcarpet": [
           {
            "colorbar": {
             "outlinewidth": 0,
             "ticks": ""
            },
            "type": "contourcarpet"
           }
          ],
          "heatmap": [
           {
            "colorbar": {
             "outlinewidth": 0,
             "ticks": ""
            },
            "colorscale": [
             [
              0,
              "#0d0887"
             ],
             [
              0.1111111111111111,
              "#46039f"
             ],
             [
              0.2222222222222222,
              "#7201a8"
             ],
             [
              0.3333333333333333,
              "#9c179e"
             ],
             [
              0.4444444444444444,
              "#bd3786"
             ],
             [
              0.5555555555555556,
              "#d8576b"
             ],
             [
              0.6666666666666666,
              "#ed7953"
             ],
             [
              0.7777777777777778,
              "#fb9f3a"
             ],
             [
              0.8888888888888888,
              "#fdca26"
             ],
             [
              1,
              "#f0f921"
             ]
            ],
            "type": "heatmap"
           }
          ],
          "heatmapgl": [
           {
            "colorbar": {
             "outlinewidth": 0,
             "ticks": ""
            },
            "colorscale": [
             [
              0,
              "#0d0887"
             ],
             [
              0.1111111111111111,
              "#46039f"
             ],
             [
              0.2222222222222222,
              "#7201a8"
             ],
             [
              0.3333333333333333,
              "#9c179e"
             ],
             [
              0.4444444444444444,
              "#bd3786"
             ],
             [
              0.5555555555555556,
              "#d8576b"
             ],
             [
              0.6666666666666666,
              "#ed7953"
             ],
             [
              0.7777777777777778,
              "#fb9f3a"
             ],
             [
              0.8888888888888888,
              "#fdca26"
             ],
             [
              1,
              "#f0f921"
             ]
            ],
            "type": "heatmapgl"
           }
          ],
          "histogram": [
           {
            "marker": {
             "pattern": {
              "fillmode": "overlay",
              "size": 10,
              "solidity": 0.2
             }
            },
            "type": "histogram"
           }
          ],
          "histogram2d": [
           {
            "colorbar": {
             "outlinewidth": 0,
             "ticks": ""
            },
            "colorscale": [
             [
              0,
              "#0d0887"
             ],
             [
              0.1111111111111111,
              "#46039f"
             ],
             [
              0.2222222222222222,
              "#7201a8"
             ],
             [
              0.3333333333333333,
              "#9c179e"
             ],
             [
              0.4444444444444444,
              "#bd3786"
             ],
             [
              0.5555555555555556,
              "#d8576b"
             ],
             [
              0.6666666666666666,
              "#ed7953"
             ],
             [
              0.7777777777777778,
              "#fb9f3a"
             ],
             [
              0.8888888888888888,
              "#fdca26"
             ],
             [
              1,
              "#f0f921"
             ]
            ],
            "type": "histogram2d"
           }
          ],
          "histogram2dcontour": [
           {
            "colorbar": {
             "outlinewidth": 0,
             "ticks": ""
            },
            "colorscale": [
             [
              0,
              "#0d0887"
             ],
             [
              0.1111111111111111,
              "#46039f"
             ],
             [
              0.2222222222222222,
              "#7201a8"
             ],
             [
              0.3333333333333333,
              "#9c179e"
             ],
             [
              0.4444444444444444,
              "#bd3786"
             ],
             [
              0.5555555555555556,
              "#d8576b"
             ],
             [
              0.6666666666666666,
              "#ed7953"
             ],
             [
              0.7777777777777778,
              "#fb9f3a"
             ],
             [
              0.8888888888888888,
              "#fdca26"
             ],
             [
              1,
              "#f0f921"
             ]
            ],
            "type": "histogram2dcontour"
           }
          ],
          "mesh3d": [
           {
            "colorbar": {
             "outlinewidth": 0,
             "ticks": ""
            },
            "type": "mesh3d"
           }
          ],
          "parcoords": [
           {
            "line": {
             "colorbar": {
              "outlinewidth": 0,
              "ticks": ""
             }
            },
            "type": "parcoords"
           }
          ],
          "pie": [
           {
            "automargin": true,
            "type": "pie"
           }
          ],
          "scatter": [
           {
            "fillpattern": {
             "fillmode": "overlay",
             "size": 10,
             "solidity": 0.2
            },
            "type": "scatter"
           }
          ],
          "scatter3d": [
           {
            "line": {
             "colorbar": {
              "outlinewidth": 0,
              "ticks": ""
             }
            },
            "marker": {
             "colorbar": {
              "outlinewidth": 0,
              "ticks": ""
             }
            },
            "type": "scatter3d"
           }
          ],
          "scattercarpet": [
           {
            "marker": {
             "colorbar": {
              "outlinewidth": 0,
              "ticks": ""
             }
            },
            "type": "scattercarpet"
           }
          ],
          "scattergeo": [
           {
            "marker": {
             "colorbar": {
              "outlinewidth": 0,
              "ticks": ""
             }
            },
            "type": "scattergeo"
           }
          ],
          "scattergl": [
           {
            "marker": {
             "colorbar": {
              "outlinewidth": 0,
              "ticks": ""
             }
            },
            "type": "scattergl"
           }
          ],
          "scattermapbox": [
           {
            "marker": {
             "colorbar": {
              "outlinewidth": 0,
              "ticks": ""
             }
            },
            "type": "scattermapbox"
           }
          ],
          "scatterpolar": [
           {
            "marker": {
             "colorbar": {
              "outlinewidth": 0,
              "ticks": ""
             }
            },
            "type": "scatterpolar"
           }
          ],
          "scatterpolargl": [
           {
            "marker": {
             "colorbar": {
              "outlinewidth": 0,
              "ticks": ""
             }
            },
            "type": "scatterpolargl"
           }
          ],
          "scatterternary": [
           {
            "marker": {
             "colorbar": {
              "outlinewidth": 0,
              "ticks": ""
             }
            },
            "type": "scatterternary"
           }
          ],
          "surface": [
           {
            "colorbar": {
             "outlinewidth": 0,
             "ticks": ""
            },
            "colorscale": [
             [
              0,
              "#0d0887"
             ],
             [
              0.1111111111111111,
              "#46039f"
             ],
             [
              0.2222222222222222,
              "#7201a8"
             ],
             [
              0.3333333333333333,
              "#9c179e"
             ],
             [
              0.4444444444444444,
              "#bd3786"
             ],
             [
              0.5555555555555556,
              "#d8576b"
             ],
             [
              0.6666666666666666,
              "#ed7953"
             ],
             [
              0.7777777777777778,
              "#fb9f3a"
             ],
             [
              0.8888888888888888,
              "#fdca26"
             ],
             [
              1,
              "#f0f921"
             ]
            ],
            "type": "surface"
           }
          ],
          "table": [
           {
            "cells": {
             "fill": {
              "color": "#EBF0F8"
             },
             "line": {
              "color": "white"
             }
            },
            "header": {
             "fill": {
              "color": "#C8D4E3"
             },
             "line": {
              "color": "white"
             }
            },
            "type": "table"
           }
          ]
         },
         "layout": {
          "annotationdefaults": {
           "arrowcolor": "#2a3f5f",
           "arrowhead": 0,
           "arrowwidth": 1
          },
          "autotypenumbers": "strict",
          "coloraxis": {
           "colorbar": {
            "outlinewidth": 0,
            "ticks": ""
           }
          },
          "colorscale": {
           "diverging": [
            [
             0,
             "#8e0152"
            ],
            [
             0.1,
             "#c51b7d"
            ],
            [
             0.2,
             "#de77ae"
            ],
            [
             0.3,
             "#f1b6da"
            ],
            [
             0.4,
             "#fde0ef"
            ],
            [
             0.5,
             "#f7f7f7"
            ],
            [
             0.6,
             "#e6f5d0"
            ],
            [
             0.7,
             "#b8e186"
            ],
            [
             0.8,
             "#7fbc41"
            ],
            [
             0.9,
             "#4d9221"
            ],
            [
             1,
             "#276419"
            ]
           ],
           "sequential": [
            [
             0,
             "#0d0887"
            ],
            [
             0.1111111111111111,
             "#46039f"
            ],
            [
             0.2222222222222222,
             "#7201a8"
            ],
            [
             0.3333333333333333,
             "#9c179e"
            ],
            [
             0.4444444444444444,
             "#bd3786"
            ],
            [
             0.5555555555555556,
             "#d8576b"
            ],
            [
             0.6666666666666666,
             "#ed7953"
            ],
            [
             0.7777777777777778,
             "#fb9f3a"
            ],
            [
             0.8888888888888888,
             "#fdca26"
            ],
            [
             1,
             "#f0f921"
            ]
           ],
           "sequentialminus": [
            [
             0,
             "#0d0887"
            ],
            [
             0.1111111111111111,
             "#46039f"
            ],
            [
             0.2222222222222222,
             "#7201a8"
            ],
            [
             0.3333333333333333,
             "#9c179e"
            ],
            [
             0.4444444444444444,
             "#bd3786"
            ],
            [
             0.5555555555555556,
             "#d8576b"
            ],
            [
             0.6666666666666666,
             "#ed7953"
            ],
            [
             0.7777777777777778,
             "#fb9f3a"
            ],
            [
             0.8888888888888888,
             "#fdca26"
            ],
            [
             1,
             "#f0f921"
            ]
           ]
          },
          "colorway": [
           "#636efa",
           "#EF553B",
           "#00cc96",
           "#ab63fa",
           "#FFA15A",
           "#19d3f3",
           "#FF6692",
           "#B6E880",
           "#FF97FF",
           "#FECB52"
          ],
          "font": {
           "color": "#2a3f5f"
          },
          "geo": {
           "bgcolor": "white",
           "lakecolor": "white",
           "landcolor": "#E5ECF6",
           "showlakes": true,
           "showland": true,
           "subunitcolor": "white"
          },
          "hoverlabel": {
           "align": "left"
          },
          "hovermode": "closest",
          "mapbox": {
           "style": "light"
          },
          "paper_bgcolor": "white",
          "plot_bgcolor": "#E5ECF6",
          "polar": {
           "angularaxis": {
            "gridcolor": "white",
            "linecolor": "white",
            "ticks": ""
           },
           "bgcolor": "#E5ECF6",
           "radialaxis": {
            "gridcolor": "white",
            "linecolor": "white",
            "ticks": ""
           }
          },
          "scene": {
           "xaxis": {
            "backgroundcolor": "#E5ECF6",
            "gridcolor": "white",
            "gridwidth": 2,
            "linecolor": "white",
            "showbackground": true,
            "ticks": "",
            "zerolinecolor": "white"
           },
           "yaxis": {
            "backgroundcolor": "#E5ECF6",
            "gridcolor": "white",
            "gridwidth": 2,
            "linecolor": "white",
            "showbackground": true,
            "ticks": "",
            "zerolinecolor": "white"
           },
           "zaxis": {
            "backgroundcolor": "#E5ECF6",
            "gridcolor": "white",
            "gridwidth": 2,
            "linecolor": "white",
            "showbackground": true,
            "ticks": "",
            "zerolinecolor": "white"
           }
          },
          "shapedefaults": {
           "line": {
            "color": "#2a3f5f"
           }
          },
          "ternary": {
           "aaxis": {
            "gridcolor": "white",
            "linecolor": "white",
            "ticks": ""
           },
           "baxis": {
            "gridcolor": "white",
            "linecolor": "white",
            "ticks": ""
           },
           "bgcolor": "#E5ECF6",
           "caxis": {
            "gridcolor": "white",
            "linecolor": "white",
            "ticks": ""
           }
          },
          "title": {
           "x": 0.05
          },
          "xaxis": {
           "automargin": true,
           "gridcolor": "white",
           "linecolor": "white",
           "ticks": "",
           "title": {
            "standoff": 15
           },
           "zerolinecolor": "white",
           "zerolinewidth": 2
          },
          "yaxis": {
           "automargin": true,
           "gridcolor": "white",
           "linecolor": "white",
           "ticks": "",
           "title": {
            "standoff": 15
           },
           "zerolinecolor": "white",
           "zerolinewidth": 2
          }
         }
        }
       }
      }
     },
     "metadata": {},
     "output_type": "display_data"
    }
   ],
   "source": [
    "#Graficar embudo para 'eventos' sin considerar el evento Tutorial   \n",
    "\n",
    "eventos_no_tutorial = eventos.query('evento != \"Tutorial\"')\n",
    "\n",
    "fig = go.Figure(go.Funnel(\n",
    "    y=eventos_no_tutorial['evento'],\n",
    "    x=eventos_no_tutorial['num_usuarios']\n",
    "))\n",
    "\n",
    "# Mostrar el gráfico\n",
    "fig.show()"
   ]
  },
  {
   "cell_type": "markdown",
   "metadata": {},
   "source": [
    "#### Conclusiones \n",
    "Se analiza el comportamiento de los usuarios a lo largo de su recorrido en la plataforma, con el objetivo de comprender cómo llegan al evento de mayor interés: 'PaymentScreenSuccessful'. Para ello, se utiliza una gráfica de embudo que muestra la cantidad de usuarios por evento, asumiendo que existe un orden lógico que la mayoría sigue hasta concretar el pago.\n",
    "\n",
    "El embudo comienza con 7,419 usuarios únicos y revela que la mayor pérdida ocurre en la etapa 'OffersScreenAppear', donde el número de usuarios disminuye en aproximadamente un 40%. Este fenómeno podría deberse a que la página no es suficientemente intuitiva (user-friendly) o a que los precios de los productos son más altos en comparación con otras plataformas.\n",
    "\n",
    "Para entender mejor este descenso en la etapa de ofertas, sería necesario contar con más información sobre el diseño y la experiencia del usuario en el sitio web.\n",
    "\n",
    "Excluyendo a los usuarios que visitan el tutorial —una etapa opcional que puede completarse en cualquier momento—, el 47.7% de los visitantes iniciales realizan una compra, lo que equivale a casi el 98% de quienes ingresan al carrito de compras. Esto sugiere que la etapa 'CartScreenAppear' es un punto clave en el proceso, funcionando como el momento decisivo (\"ajá\") que impulsa a los usuarios a concretar sus compras en el sitio web."
   ]
  },
  {
   "cell_type": "markdown",
   "metadata": {},
   "source": [
    "### Estudiar los resultados del experimento"
   ]
  },
  {
   "cell_type": "code",
   "execution_count": 89,
   "metadata": {},
   "outputs": [
    {
     "name": "stdout",
     "output_type": "stream",
     "text": [
      "id_exp\n",
      "246    2484\n",
      "247    2513\n",
      "248    2537\n",
      "Name: id_usuario, dtype: int64\n"
     ]
    }
   ],
   "source": [
    "# Mostrar usuarios por experimento \n",
    "print(usuarios_por_grupo)"
   ]
  },
  {
   "cell_type": "code",
   "execution_count": 75,
   "metadata": {},
   "outputs": [
    {
     "name": "stdout",
     "output_type": "stream",
     "text": [
      "id_exp                    246   247   248\n",
      "evento                                   \n",
      "CartScreenAppear         1266  1238  1230\n",
      "MainScreenAppear         2450  2476  2493\n",
      "OffersScreenAppear       1542  1520  1531\n",
      "PaymentScreenSuccessful  1200  1158  1181\n",
      "Tutorial                  278   283   279\n"
     ]
    }
   ],
   "source": [
    "#Calcular usuarios por grupo y evento\n",
    "\n",
    "usuario_evento_por_grupo = registros_filtrado.pivot_table(index='evento',\n",
    "                                                           columns='id_exp',\n",
    "                                                           values='id_usuario',\n",
    "                                                           aggfunc='nunique'\n",
    ")\n",
    "\n",
    "print(usuario_evento_por_grupo)"
   ]
  },
  {
   "cell_type": "code",
   "execution_count": 95,
   "metadata": {},
   "outputs": [],
   "source": [
    "#Crear función para calcular diferencias significativas entre pruebas \n",
    "\n",
    "def comparacion_pruebas (exitos1, exitos2, usuarios1, usuarios2, alpha=0.01):\n",
    "\n",
    "    #proporción éxitos exp1\n",
    "    p1 = exitos1 / usuarios1\n",
    "\n",
    "    #proporción de éxitos exp2\n",
    "    p2 = exitos2 / usuarios2\n",
    "\n",
    "    #proporción combinada\n",
    "    p_combinada = (exitos1 + exitos2) / (usuarios1 + usuarios2)\n",
    "\n",
    "    #diferencia proporciones entre pruebas\n",
    "    dif_p = p1 - p2\n",
    "\n",
    "    #calcular valor z \n",
    "    valor_z = dif_p / math.sqrt(p_combinada * (1 - p_combinada) * ((1 / usuarios1) +(1 / usuarios2)))\n",
    "\n",
    "    #calcular valor p \n",
    "    valor_p = 2 * (1 - norm.cdf(abs(valor_z)))\n",
    "\n",
    "\n",
    "\n",
    "    print('Valor p:', valor_p)\n",
    "\n",
    "    if valor_p < alpha:\n",
    "        print('Se rechaza la hipótesis nula. Hay una diferencia estadística significativa entre ambas pruebas')\n",
    "    else: \n",
    "        print('No se rechaza la hipótesis nula: no hay evidencia suficiente de una diferencia significativa')"
   ]
  },
  {
   "cell_type": "code",
   "execution_count": 99,
   "metadata": {},
   "outputs": [],
   "source": [
    "#Crear función para automatizar el estudio estadístico de eventos de cada experimento\n",
    "\n",
    "def comp_evento_por_hipotesis(usuario_evento_por_grupo, usuarios_por_grupo, evento, exp1, exp2):\n",
    "    proporcion_1 = usuario_evento_por_grupo.loc[evento, exp1] / usuarios_por_grupo.loc[exp1]\n",
    "    proporcion_2 = usuario_evento_por_grupo.loc[evento, exp2] / usuarios_por_grupo.loc[exp2]\n",
    "\n",
    "    print(f'Proporción de {evento} en {exp1} es de: {proporcion_1}')\n",
    "    print(f'Proporción de {evento} en {exp2} es de: {proporcion_2}')\n",
    "\n",
    "    comparacion_pruebas(usuario_evento_por_grupo.loc[evento, exp1], \n",
    "                        usuario_evento_por_grupo.loc[evento, exp2],\n",
    "                        usuarios_por_grupo.loc[exp1],\n",
    "                        usuarios_por_grupo.loc[exp2]\n",
    "                        )"
   ]
  },
  {
   "cell_type": "markdown",
   "metadata": {},
   "source": [
    "#### Comparar eventos en experimentos 246 y 247\n"
   ]
  },
  {
   "cell_type": "code",
   "execution_count": 100,
   "metadata": {},
   "outputs": [
    {
     "name": "stdout",
     "output_type": "stream",
     "text": [
      "Proporción de CartScreenAppear en 246 es de: 0.5096618357487923\n",
      "Proporción de CartScreenAppear en 247 es de: 0.4926382809391166\n",
      "Valor p: 0.22883372237997213\n",
      "No se rechaza la hipótesis nula: no hay evidencia suficiente de una diferencia significativa\n",
      "\n",
      "Proporción de MainScreenAppear en 246 es de: 0.9863123993558777\n",
      "Proporción de MainScreenAppear en 247 es de: 0.9852765618782332\n",
      "Valor p: 0.7570597232046099\n",
      "No se rechaza la hipótesis nula: no hay evidencia suficiente de una diferencia significativa\n",
      "\n",
      "Proporción de OffersScreenAppear en 246 es de: 0.6207729468599034\n",
      "Proporción de OffersScreenAppear en 247 es de: 0.6048547552725826\n",
      "Valor p: 0.2480954578522181\n",
      "No se rechaza la hipótesis nula: no hay evidencia suficiente de una diferencia significativa\n",
      "\n",
      "Proporción de PaymentScreenSuccessful en 246 es de: 0.4830917874396135\n",
      "Proporción de PaymentScreenSuccessful en 247 es de: 0.46080382013529647\n",
      "Valor p: 0.11456679313141849\n",
      "No se rechaza la hipótesis nula: no hay evidencia suficiente de una diferencia significativa\n",
      "\n",
      "Proporción de Tutorial en 246 es de: 0.11191626409017713\n",
      "Proporción de Tutorial en 247 es de: 0.11261440509351373\n",
      "Valor p: 0.9376996189257114\n",
      "No se rechaza la hipótesis nula: no hay evidencia suficiente de una diferencia significativa\n",
      "\n"
     ]
    }
   ],
   "source": [
    "for evento in usuario_evento_por_grupo.index:\n",
    "    comp_evento_por_hipotesis(usuario_evento_por_grupo,\n",
    "                              usuarios_por_grupo,\n",
    "                              evento, 246, 247)\n",
    "    print()"
   ]
  },
  {
   "cell_type": "markdown",
   "metadata": {},
   "source": [
    "#### Comparar eventos en experimentos 246 y 248"
   ]
  },
  {
   "cell_type": "code",
   "execution_count": 101,
   "metadata": {},
   "outputs": [
    {
     "name": "stdout",
     "output_type": "stream",
     "text": [
      "Proporción de CartScreenAppear en 246 es de: 0.5096618357487923\n",
      "Proporción de CartScreenAppear en 248 es de: 0.48482459597950334\n",
      "Valor p: 0.07842923237520116\n",
      "No se rechaza la hipótesis nula: no hay evidencia suficiente de una diferencia significativa\n",
      "\n",
      "Proporción de MainScreenAppear en 246 es de: 0.9863123993558777\n",
      "Proporción de MainScreenAppear en 248 es de: 0.9826566811194324\n",
      "Valor p: 0.2949721933554552\n",
      "No se rechaza la hipótesis nula: no hay evidencia suficiente de una diferencia significativa\n",
      "\n",
      "Proporción de OffersScreenAppear en 246 es de: 0.6207729468599034\n",
      "Proporción de OffersScreenAppear en 248 es de: 0.6034686637761135\n",
      "Valor p: 0.20836205402738917\n",
      "No se rechaza la hipótesis nula: no hay evidencia suficiente de una diferencia significativa\n",
      "\n",
      "Proporción de PaymentScreenSuccessful en 246 es de: 0.4830917874396135\n",
      "Proporción de PaymentScreenSuccessful en 248 es de: 0.46551044540796216\n",
      "Valor p: 0.2122553275697796\n",
      "No se rechaza la hipótesis nula: no hay evidencia suficiente de una diferencia significativa\n",
      "\n",
      "Proporción de Tutorial en 246 es de: 0.11191626409017713\n",
      "Proporción de Tutorial en 248 es de: 0.10997240835632636\n",
      "Valor p: 0.8264294010087645\n",
      "No se rechaza la hipótesis nula: no hay evidencia suficiente de una diferencia significativa\n",
      "\n"
     ]
    }
   ],
   "source": [
    "for evento in usuario_evento_por_grupo.index:\n",
    "    comp_evento_por_hipotesis(usuario_evento_por_grupo,\n",
    "                              usuarios_por_grupo,\n",
    "                              evento, 246, 248)\n",
    "    print()"
   ]
  },
  {
   "cell_type": "markdown",
   "metadata": {},
   "source": [
    "#### Comparar eventos en experimentos 247 y 248"
   ]
  },
  {
   "cell_type": "code",
   "execution_count": 102,
   "metadata": {},
   "outputs": [
    {
     "name": "stdout",
     "output_type": "stream",
     "text": [
      "Proporción de CartScreenAppear en 247 es de: 0.4926382809391166\n",
      "Proporción de CartScreenAppear en 248 es de: 0.48482459597950334\n",
      "Valor p: 0.5786197879539783\n",
      "No se rechaza la hipótesis nula: no hay evidencia suficiente de una diferencia significativa\n",
      "\n",
      "Proporción de MainScreenAppear en 247 es de: 0.9852765618782332\n",
      "Proporción de MainScreenAppear en 248 es de: 0.9826566811194324\n",
      "Valor p: 0.4587053616621515\n",
      "No se rechaza la hipótesis nula: no hay evidencia suficiente de una diferencia significativa\n",
      "\n",
      "Proporción de OffersScreenAppear en 247 es de: 0.6048547552725826\n",
      "Proporción de OffersScreenAppear en 248 es de: 0.6034686637761135\n",
      "Valor p: 0.9197817830592261\n",
      "No se rechaza la hipótesis nula: no hay evidencia suficiente de una diferencia significativa\n",
      "\n",
      "Proporción de PaymentScreenSuccessful en 247 es de: 0.46080382013529647\n",
      "Proporción de PaymentScreenSuccessful en 248 es de: 0.46551044540796216\n",
      "Valor p: 0.7373415053803964\n",
      "No se rechaza la hipótesis nula: no hay evidencia suficiente de una diferencia significativa\n",
      "\n",
      "Proporción de Tutorial en 247 es de: 0.11261440509351373\n",
      "Proporción de Tutorial en 248 es de: 0.10997240835632636\n",
      "Valor p: 0.765323922474501\n",
      "No se rechaza la hipótesis nula: no hay evidencia suficiente de una diferencia significativa\n",
      "\n"
     ]
    }
   ],
   "source": [
    "for evento in usuario_evento_por_grupo.index:\n",
    "    comp_evento_por_hipotesis(usuario_evento_por_grupo,\n",
    "                              usuarios_por_grupo,\n",
    "                              evento, 247, 248)\n",
    "    print()"
   ]
  },
  {
   "cell_type": "markdown",
   "metadata": {},
   "source": [
    "#### 3.3.1 Conclusiones \n",
    "\n",
    "Tras realizar un análisis estadístico de las muestras de cada experimento, podemos concluir que los grupos de control (246 y 247) cumplen con su objetivo. Los resultados de la comparación entre ambos experimentos por evento muestran que no existen factores externos significativos que puedan influir en los resultados después de aplicar los cambios al grupo 248.\n",
    "\n",
    "Por otro lado, se evalúa la diferencia estadística entre cada grupo de control y el grupo 248, que fue expuesto a los cambios en la plataforma, para cada uno de los eventos. Los análisis revelan que la prueba B no ha tenido el impacto esperado, ya que los resultados demuestran que las proporciones de usuarios en cada uno de los eventos a lo largo de los tres experimentos no presentan variaciones significativas."
   ]
  },
  {
   "cell_type": "markdown",
   "metadata": {},
   "source": [
    "## Conclusiones generales\n"
   ]
  },
  {
   "cell_type": "markdown",
   "metadata": {},
   "source": [
    "Se recomienda no implementar los cambios propuestos en el experimento 248, ya que los resultados de los experimentos de control indican que el impacto es insignificante en cualquiera de los 5 eventos. Por lo tanto, aplicar estos cambios en la página web representaría una inversión innecesaria.\n",
    "\n",
    "Por otro lado, se sugiere investigar los factores que afectan el desplazamiento de usuarios desde MainScreenAppears hasta OffersScreenAppear, ya que el 77% de los visitantes que participan en el evento de ofertas logran concretar una compra. Sería beneficioso identificar y abordar estos factores para aumentar la cantidad de usuarios que continúan navegando una vez en la página principal."
   ]
  }
 ],
 "metadata": {
  "kernelspec": {
   "display_name": "venv_proyecto11",
   "language": "python",
   "name": "python3"
  },
  "language_info": {
   "codemirror_mode": {
    "name": "ipython",
    "version": 3
   },
   "file_extension": ".py",
   "mimetype": "text/x-python",
   "name": "python",
   "nbconvert_exporter": "python",
   "pygments_lexer": "ipython3",
   "version": "3.12.7"
  }
 },
 "nbformat": 4,
 "nbformat_minor": 2
}
